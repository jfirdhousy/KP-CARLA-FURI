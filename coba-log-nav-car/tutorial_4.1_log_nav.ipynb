{
 "cells": [
  {
   "cell_type": "code",
   "execution_count": null,
   "id": "ab6181e8",
   "metadata": {
    "vscode": {
     "languageId": "plaintext"
    }
   },
   "outputs": [],
   "source": [
    "#carla_logger.py\n",
    "\n",
    "# All necessary imports for the logger script\n",
    "import carla\n",
    "import time\n",
    "import sys\n",
    "import datetime"
   ]
  },
  {
   "cell_type": "code",
   "execution_count": null,
   "id": "dbd6c5c5",
   "metadata": {
    "vscode": {
     "languageId": "plaintext"
    }
   },
   "outputs": [],
   "source": [
    "# Add CARLA PythonAPI to the system path\n",
    "# Adjust the path if your CARLA installation is different\n",
    "try:\n",
    "    sys.path.append('C:/CARLA_0.9.14/PythonAPI/carla')\n",
    "except IndexError:\n",
    "    pass"
   ]
  },
  {
   "cell_type": "code",
   "execution_count": null,
   "id": "dde0be1a",
   "metadata": {
    "vscode": {
     "languageId": "plaintext"
    }
   },
   "outputs": [],
   "source": [
    "# --- Logging function ---\n",
    "def log_movement(log_file, timestamp, position, direction):\n",
    "    \"\"\"\n",
    "    Logs the car's movement details to a file.\n",
    "    \"\"\"\n",
    "    with open(log_file, 'a') as f:\n",
    "        log_entry = (\n",
    "            f\"Timestamp: {timestamp}\\n\"\n",
    "            f\"  - Position:  x={position.x:.2f}, y={position.y:.2f}, z={position.z:.2f}\\n\"\n",
    "            f\"  - Direction: x={direction.x:.2f}, y={direction.y:.2f}, z={direction.z:.2f}\\n\"\n",
    "            f\"----------------------------------------\\n\"\n",
    "        )\n",
    "        f.write(log_entry)"
   ]
  },
  {
   "cell_type": "code",
   "execution_count": null,
   "id": "b20eb962",
   "metadata": {
    "vscode": {
     "languageId": "plaintext"
    }
   },
   "outputs": [],
   "source": [
    "# --- Main logging loop ---\n",
    "def start_logging(log_file='car_movement_log.txt'):\n",
    "    try:\n",
    "        # Connect to the CARLA client\n",
    "        client = carla.Client('localhost', 2000)\n",
    "        client.set_timeout(10.0)\n",
    "        world = client.get_world()\n",
    "\n",
    "        # Get a reference to the vehicle.\n",
    "        # This assumes the main script has already spawned a vehicle.\n",
    "        # We look for the first vehicle actor in the world.\n",
    "        vehicle_list = world.get_actors().filter('vehicle.*')\n",
    "        \n",
    "        if not vehicle_list:\n",
    "            print(\"No vehicle found in the simulation. Please run the main controller script first.\")\n",
    "            return\n",
    "\n",
    "        vehicle = vehicle_list[0]\n",
    "        print(f\"Logger connected to vehicle: {vehicle.type_id}\")\n",
    "\n",
    "        # --- Initial logging ---\n",
    "        initial_pos = vehicle.get_transform().location\n",
    "        initial_dir = vehicle.get_transform().get_forward_vector()\n",
    "        with open(log_file, 'w') as f:\n",
    "            f.write(f\"--- Simulation Log Start ---\\n\")\n",
    "            f.write(f\"Initial Position: x={initial_pos.x:.2f}, y={initial_pos.y:.2f}, z={initial_pos.z:.2f}\\n\")\n",
    "            f.write(f\"Initial Direction: x={initial_dir.x:.2f}, y={initial_dir.y:.2f}, z={initial_dir.z:.2f}\\n\")\n",
    "            f.write(f\"----------------------------------------\\n\")\n",
    "        \n",
    "        print(\"Logging started. Press Ctrl+C to stop.\")\n",
    "\n",
    "        # --- Logging loop ---\n",
    "        while True:\n",
    "            # Get current vehicle transform\n",
    "            vehicle_transform = vehicle.get_transform()\n",
    "            current_pos = vehicle_transform.location\n",
    "            current_dir = vehicle_transform.get_forward_vector()\n",
    "            timestamp = datetime.datetime.now().isoformat()\n",
    "\n",
    "            # Log the data\n",
    "            log_movement(log_file, timestamp, current_pos, current_dir)\n",
    "\n",
    "            # Wait for a short duration before the next log entry\n",
    "            time.sleep(0.1) # Log every 100ms\n",
    "            \n",
    "    except KeyboardInterrupt:\n",
    "        print(\"\\nLogging stopped by user.\")\n",
    "    except Exception as e:\n",
    "        print(f\"An error occurred: {e}\")\n",
    "    finally:\n",
    "        print(\"Logger script finished.\")"
   ]
  },
  {
   "cell_type": "code",
   "execution_count": null,
   "id": "b72d9ea9",
   "metadata": {
    "vscode": {
     "languageId": "plaintext"
    }
   },
   "outputs": [],
   "source": [
    "if __name__ == '__main__':\n",
    "    start_logging()"
   ]
  }
 ],
 "metadata": {
  "language_info": {
   "name": "python"
  }
 },
 "nbformat": 4,
 "nbformat_minor": 5
}
