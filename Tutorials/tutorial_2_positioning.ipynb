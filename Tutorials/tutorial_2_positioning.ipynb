{
 "cells": [
  {
   "cell_type": "code",
   "execution_count": 1,
   "id": "84189703",
   "metadata": {},
   "outputs": [],
   "source": [
    "#all imports\n",
    "import carla"
   ]
  },
  {
   "cell_type": "code",
   "execution_count": 24,
   "id": "c5846eae",
   "metadata": {},
   "outputs": [],
   "source": [
    "client = carla.Client('localhost', 2000)\n",
    "\n",
    "world = client.get_world()\n",
    "spawn_points = world.get_map().get_spawn_points()\n",
    "\n",
    "vehicle_bp = world.get_blueprint_library().filter('*firetruck*')\n",
    "start_point = spawn_points[0]\n",
    "vehicle = world.try_spawn_actor(vehicle_bp[0], start_point)"
   ]
  },
  {
   "cell_type": "code",
   "execution_count": 25,
   "id": "598d2c5c",
   "metadata": {},
   "outputs": [
    {
     "name": "stdout",
     "output_type": "stream",
     "text": [
      "Transform(Location(x=-64.644844, y=24.471010, z=0.598943), Rotation(pitch=0.000000, yaw=0.159198, roll=0.000000))\n"
     ]
    }
   ],
   "source": [
    "# get the car's position on the map \n",
    "vehicle_pos = vehicle.get_transform()\n",
    "print(vehicle_pos)"
   ]
  },
  {
   "cell_type": "code",
   "execution_count": 26,
   "id": "33b88a12",
   "metadata": {},
   "outputs": [
    {
     "name": "stdout",
     "output_type": "stream",
     "text": [
      "Transform(Location(x=-64.644844, y=24.471010, z=0.600000), Rotation(pitch=0.000000, yaw=0.159198, roll=0.000000))\n"
     ]
    }
   ],
   "source": [
    "# initial spawn point is the same - just 0.6m higher off the ground\n",
    "print(start_point)"
   ]
  },
  {
   "cell_type": "code",
   "execution_count": 27,
   "id": "365eee2c",
   "metadata": {},
   "outputs": [],
   "source": [
    "#send vehicle off\n",
    "vehicle.set_autopilot(True)"
   ]
  },
  {
   "cell_type": "code",
   "execution_count": 6,
   "id": "233cd16e",
   "metadata": {},
   "outputs": [
    {
     "name": "stdout",
     "output_type": "stream",
     "text": [
      "Transform(Location(x=-45.192600, y=-36.837620, z=-0.003251), Rotation(pitch=-0.021877, yaw=-89.566284, roll=-0.000061))\n"
     ]
    }
   ],
   "source": [
    "# get actual position from the car moving\n",
    "vehicle_pos = vehicle.get_transform()\n",
    "print(vehicle_pos)"
   ]
  },
  {
   "cell_type": "code",
   "execution_count": 7,
   "id": "24e9be89",
   "metadata": {},
   "outputs": [],
   "source": [
    "# now look at the map\n",
    "town_map = world.get_map()"
   ]
  },
  {
   "cell_type": "code",
   "execution_count": 8,
   "id": "39caeb6f",
   "metadata": {},
   "outputs": [
    {
     "data": {
      "text/plain": [
       "carla.libcarla.Map"
      ]
     },
     "execution_count": 8,
     "metadata": {},
     "output_type": "execute_result"
    }
   ],
   "source": [
    "type(town_map)"
   ]
  },
  {
   "cell_type": "code",
   "execution_count": 9,
   "id": "ca0be330",
   "metadata": {},
   "outputs": [
    {
     "name": "stdout",
     "output_type": "stream",
     "text": [
      "Map(name=Carla/Maps/Town10HD_Opt)\n"
     ]
    }
   ],
   "source": [
    "print(town_map)"
   ]
  },
  {
   "cell_type": "code",
   "execution_count": 10,
   "id": "7b407a5b",
   "metadata": {},
   "outputs": [],
   "source": [
    "roads = town_map.get_topology()"
   ]
  },
  {
   "cell_type": "code",
   "execution_count": 11,
   "id": "e1d93d9f",
   "metadata": {},
   "outputs": [
    {
     "name": "stdout",
     "output_type": "stream",
     "text": [
      "[(<carla.libcarla.Waypoint object at 0x0000023E0F572450>, <carla.libcarla.Waypoint object at 0x0000023E0F572270>), (<carla.libcarla.Waypoint object at 0x0000023E0F5724B0>, <carla.libcarla.Waypoint object at 0x0000023E0F572510>), (<carla.libcarla.Waypoint object at 0x0000023E0F572570>, <carla.libcarla.Waypoint object at 0x0000023E0F5725D0>), (<carla.libcarla.Waypoint object at 0x0000023E0F572630>, <carla.libcarla.Waypoint object at 0x0000023E0F572690>), (<carla.libcarla.Waypoint object at 0x0000023E0F5726F0>, <carla.libcarla.Waypoint object at 0x0000023E0F572750>), (<carla.libcarla.Waypoint object at 0x0000023E0F5727B0>, <carla.libcarla.Waypoint object at 0x0000023E0F572810>), (<carla.libcarla.Waypoint object at 0x0000023E0F572870>, <carla.libcarla.Waypoint object at 0x0000023E0F5728D0>), (<carla.libcarla.Waypoint object at 0x0000023E0F572930>, <carla.libcarla.Waypoint object at 0x0000023E0F572990>), (<carla.libcarla.Waypoint object at 0x0000023E0F5729F0>, <carla.libcarla.Waypoint object at 0x0000023E0F572A50>), (<carla.libcarla.Waypoint object at 0x0000023E0F572AB0>, <carla.libcarla.Waypoint object at 0x0000023E0F572B10>), (<carla.libcarla.Waypoint object at 0x0000023E0F572B70>, <carla.libcarla.Waypoint object at 0x0000023E0F572BD0>), (<carla.libcarla.Waypoint object at 0x0000023E0F572C30>, <carla.libcarla.Waypoint object at 0x0000023E0F572C90>), (<carla.libcarla.Waypoint object at 0x0000023E0F572CF0>, <carla.libcarla.Waypoint object at 0x0000023E0F572D50>), (<carla.libcarla.Waypoint object at 0x0000023E0F572DB0>, <carla.libcarla.Waypoint object at 0x0000023E0F572E10>), (<carla.libcarla.Waypoint object at 0x0000023E0F572E70>, <carla.libcarla.Waypoint object at 0x0000023E0F572ED0>), (<carla.libcarla.Waypoint object at 0x0000023E0F572F30>, <carla.libcarla.Waypoint object at 0x0000023E0F572F90>), (<carla.libcarla.Waypoint object at 0x0000023E0F583030>, <carla.libcarla.Waypoint object at 0x0000023E0F583090>), (<carla.libcarla.Waypoint object at 0x0000023E0F5830F0>, <carla.libcarla.Waypoint object at 0x0000023E0F583150>), (<carla.libcarla.Waypoint object at 0x0000023E0F5831B0>, <carla.libcarla.Waypoint object at 0x0000023E0F583210>), (<carla.libcarla.Waypoint object at 0x0000023E0F583270>, <carla.libcarla.Waypoint object at 0x0000023E0F5832D0>), (<carla.libcarla.Waypoint object at 0x0000023E0F583330>, <carla.libcarla.Waypoint object at 0x0000023E0F583390>), (<carla.libcarla.Waypoint object at 0x0000023E0F5833F0>, <carla.libcarla.Waypoint object at 0x0000023E0F583450>), (<carla.libcarla.Waypoint object at 0x0000023E0F5834B0>, <carla.libcarla.Waypoint object at 0x0000023E0F583510>), (<carla.libcarla.Waypoint object at 0x0000023E0F583570>, <carla.libcarla.Waypoint object at 0x0000023E0F5835D0>), (<carla.libcarla.Waypoint object at 0x0000023E0F583630>, <carla.libcarla.Waypoint object at 0x0000023E0F583690>), (<carla.libcarla.Waypoint object at 0x0000023E0F5836F0>, <carla.libcarla.Waypoint object at 0x0000023E0F583750>), (<carla.libcarla.Waypoint object at 0x0000023E0F5837B0>, <carla.libcarla.Waypoint object at 0x0000023E0F583810>), (<carla.libcarla.Waypoint object at 0x0000023E0F583870>, <carla.libcarla.Waypoint object at 0x0000023E0F5838D0>), (<carla.libcarla.Waypoint object at 0x0000023E0F583930>, <carla.libcarla.Waypoint object at 0x0000023E0F583990>), (<carla.libcarla.Waypoint object at 0x0000023E0F5839F0>, <carla.libcarla.Waypoint object at 0x0000023E0F583A50>), (<carla.libcarla.Waypoint object at 0x0000023E0F583AB0>, <carla.libcarla.Waypoint object at 0x0000023E0F583B10>), (<carla.libcarla.Waypoint object at 0x0000023E0F583B70>, <carla.libcarla.Waypoint object at 0x0000023E0F583BD0>), (<carla.libcarla.Waypoint object at 0x0000023E0F583C30>, <carla.libcarla.Waypoint object at 0x0000023E0F583C90>), (<carla.libcarla.Waypoint object at 0x0000023E0F583CF0>, <carla.libcarla.Waypoint object at 0x0000023E0F583D50>), (<carla.libcarla.Waypoint object at 0x0000023E0F583DB0>, <carla.libcarla.Waypoint object at 0x0000023E0F583E10>), (<carla.libcarla.Waypoint object at 0x0000023E0F583E70>, <carla.libcarla.Waypoint object at 0x0000023E0F583ED0>), (<carla.libcarla.Waypoint object at 0x0000023E0F583F30>, <carla.libcarla.Waypoint object at 0x0000023E0F583F90>), (<carla.libcarla.Waypoint object at 0x0000023E0F585030>, <carla.libcarla.Waypoint object at 0x0000023E0F585090>), (<carla.libcarla.Waypoint object at 0x0000023E0F5850F0>, <carla.libcarla.Waypoint object at 0x0000023E0F585150>), (<carla.libcarla.Waypoint object at 0x0000023E0F5851B0>, <carla.libcarla.Waypoint object at 0x0000023E0F585210>), (<carla.libcarla.Waypoint object at 0x0000023E0F585270>, <carla.libcarla.Waypoint object at 0x0000023E0F5852D0>), (<carla.libcarla.Waypoint object at 0x0000023E0F585330>, <carla.libcarla.Waypoint object at 0x0000023E0F585390>), (<carla.libcarla.Waypoint object at 0x0000023E0F5853F0>, <carla.libcarla.Waypoint object at 0x0000023E0F585450>), (<carla.libcarla.Waypoint object at 0x0000023E0F5854B0>, <carla.libcarla.Waypoint object at 0x0000023E0F585510>), (<carla.libcarla.Waypoint object at 0x0000023E0F585570>, <carla.libcarla.Waypoint object at 0x0000023E0F5855D0>), (<carla.libcarla.Waypoint object at 0x0000023E0F585630>, <carla.libcarla.Waypoint object at 0x0000023E0F585690>), (<carla.libcarla.Waypoint object at 0x0000023E0F5856F0>, <carla.libcarla.Waypoint object at 0x0000023E0F585750>), (<carla.libcarla.Waypoint object at 0x0000023E0F5857B0>, <carla.libcarla.Waypoint object at 0x0000023E0F585810>), (<carla.libcarla.Waypoint object at 0x0000023E0F585870>, <carla.libcarla.Waypoint object at 0x0000023E0F5858D0>), (<carla.libcarla.Waypoint object at 0x0000023E0F585930>, <carla.libcarla.Waypoint object at 0x0000023E0F585990>), (<carla.libcarla.Waypoint object at 0x0000023E0F5859F0>, <carla.libcarla.Waypoint object at 0x0000023E0F585A50>), (<carla.libcarla.Waypoint object at 0x0000023E0F585AB0>, <carla.libcarla.Waypoint object at 0x0000023E0F585B10>), (<carla.libcarla.Waypoint object at 0x0000023E0F585B70>, <carla.libcarla.Waypoint object at 0x0000023E0F585BD0>), (<carla.libcarla.Waypoint object at 0x0000023E0F585C30>, <carla.libcarla.Waypoint object at 0x0000023E0F585C90>), (<carla.libcarla.Waypoint object at 0x0000023E0F585CF0>, <carla.libcarla.Waypoint object at 0x0000023E0F585D50>), (<carla.libcarla.Waypoint object at 0x0000023E0F585DB0>, <carla.libcarla.Waypoint object at 0x0000023E0F585E10>), (<carla.libcarla.Waypoint object at 0x0000023E0F585E70>, <carla.libcarla.Waypoint object at 0x0000023E0F585ED0>), (<carla.libcarla.Waypoint object at 0x0000023E0F585F30>, <carla.libcarla.Waypoint object at 0x0000023E0F585F90>), (<carla.libcarla.Waypoint object at 0x0000023E0F584030>, <carla.libcarla.Waypoint object at 0x0000023E0F584090>), (<carla.libcarla.Waypoint object at 0x0000023E0F5840F0>, <carla.libcarla.Waypoint object at 0x0000023E0F584150>), (<carla.libcarla.Waypoint object at 0x0000023E0F5841B0>, <carla.libcarla.Waypoint object at 0x0000023E0F584210>), (<carla.libcarla.Waypoint object at 0x0000023E0F584270>, <carla.libcarla.Waypoint object at 0x0000023E0F5842D0>), (<carla.libcarla.Waypoint object at 0x0000023E0F584330>, <carla.libcarla.Waypoint object at 0x0000023E0F584390>), (<carla.libcarla.Waypoint object at 0x0000023E0F5843F0>, <carla.libcarla.Waypoint object at 0x0000023E0F584450>), (<carla.libcarla.Waypoint object at 0x0000023E0F5844B0>, <carla.libcarla.Waypoint object at 0x0000023E0F584510>), (<carla.libcarla.Waypoint object at 0x0000023E0F584570>, <carla.libcarla.Waypoint object at 0x0000023E0F5845D0>), (<carla.libcarla.Waypoint object at 0x0000023E0F584630>, <carla.libcarla.Waypoint object at 0x0000023E0F584690>), (<carla.libcarla.Waypoint object at 0x0000023E0F5846F0>, <carla.libcarla.Waypoint object at 0x0000023E0F584750>), (<carla.libcarla.Waypoint object at 0x0000023E0F5847B0>, <carla.libcarla.Waypoint object at 0x0000023E0F584810>), (<carla.libcarla.Waypoint object at 0x0000023E0F584870>, <carla.libcarla.Waypoint object at 0x0000023E0F5848D0>), (<carla.libcarla.Waypoint object at 0x0000023E0F584930>, <carla.libcarla.Waypoint object at 0x0000023E0F584990>), (<carla.libcarla.Waypoint object at 0x0000023E0F5849F0>, <carla.libcarla.Waypoint object at 0x0000023E0F584A50>), (<carla.libcarla.Waypoint object at 0x0000023E0F584AB0>, <carla.libcarla.Waypoint object at 0x0000023E0F584B10>), (<carla.libcarla.Waypoint object at 0x0000023E0F584B70>, <carla.libcarla.Waypoint object at 0x0000023E0F584BD0>), (<carla.libcarla.Waypoint object at 0x0000023E0F584C30>, <carla.libcarla.Waypoint object at 0x0000023E0F584C90>), (<carla.libcarla.Waypoint object at 0x0000023E0F584CF0>, <carla.libcarla.Waypoint object at 0x0000023E0F584D50>), (<carla.libcarla.Waypoint object at 0x0000023E0F584DB0>, <carla.libcarla.Waypoint object at 0x0000023E0F584E10>), (<carla.libcarla.Waypoint object at 0x0000023E0F584E70>, <carla.libcarla.Waypoint object at 0x0000023E0F584ED0>), (<carla.libcarla.Waypoint object at 0x0000023E0F584F30>, <carla.libcarla.Waypoint object at 0x0000023E0F584F90>), (<carla.libcarla.Waypoint object at 0x0000023E0F586030>, <carla.libcarla.Waypoint object at 0x0000023E0F586090>), (<carla.libcarla.Waypoint object at 0x0000023E0F5860F0>, <carla.libcarla.Waypoint object at 0x0000023E0F586150>), (<carla.libcarla.Waypoint object at 0x0000023E0F5861B0>, <carla.libcarla.Waypoint object at 0x0000023E0F586210>), (<carla.libcarla.Waypoint object at 0x0000023E0F586270>, <carla.libcarla.Waypoint object at 0x0000023E0F5862D0>), (<carla.libcarla.Waypoint object at 0x0000023E0F586330>, <carla.libcarla.Waypoint object at 0x0000023E0F586390>), (<carla.libcarla.Waypoint object at 0x0000023E0F5863F0>, <carla.libcarla.Waypoint object at 0x0000023E0F586450>), (<carla.libcarla.Waypoint object at 0x0000023E0F5864B0>, <carla.libcarla.Waypoint object at 0x0000023E0F586510>), (<carla.libcarla.Waypoint object at 0x0000023E0F586570>, <carla.libcarla.Waypoint object at 0x0000023E0F5865D0>), (<carla.libcarla.Waypoint object at 0x0000023E0F586630>, <carla.libcarla.Waypoint object at 0x0000023E0F586690>), (<carla.libcarla.Waypoint object at 0x0000023E0F5866F0>, <carla.libcarla.Waypoint object at 0x0000023E0F586750>), (<carla.libcarla.Waypoint object at 0x0000023E0F5867B0>, <carla.libcarla.Waypoint object at 0x0000023E0F586810>), (<carla.libcarla.Waypoint object at 0x0000023E0F586870>, <carla.libcarla.Waypoint object at 0x0000023E0F5868D0>), (<carla.libcarla.Waypoint object at 0x0000023E0F586930>, <carla.libcarla.Waypoint object at 0x0000023E0F586990>), (<carla.libcarla.Waypoint object at 0x0000023E0F5869F0>, <carla.libcarla.Waypoint object at 0x0000023E0F586A50>), (<carla.libcarla.Waypoint object at 0x0000023E0F586AB0>, <carla.libcarla.Waypoint object at 0x0000023E0F586B10>), (<carla.libcarla.Waypoint object at 0x0000023E0F586B70>, <carla.libcarla.Waypoint object at 0x0000023E0F586BD0>), (<carla.libcarla.Waypoint object at 0x0000023E0F586C30>, <carla.libcarla.Waypoint object at 0x0000023E0F586C90>), (<carla.libcarla.Waypoint object at 0x0000023E0F586CF0>, <carla.libcarla.Waypoint object at 0x0000023E0F586D50>), (<carla.libcarla.Waypoint object at 0x0000023E0F586DB0>, <carla.libcarla.Waypoint object at 0x0000023E0F586E10>), (<carla.libcarla.Waypoint object at 0x0000023E0F586E70>, <carla.libcarla.Waypoint object at 0x0000023E0F586ED0>), (<carla.libcarla.Waypoint object at 0x0000023E0F586F30>, <carla.libcarla.Waypoint object at 0x0000023E0F586F90>), (<carla.libcarla.Waypoint object at 0x0000023E0F587030>, <carla.libcarla.Waypoint object at 0x0000023E0F587090>), (<carla.libcarla.Waypoint object at 0x0000023E0F5870F0>, <carla.libcarla.Waypoint object at 0x0000023E0F587150>), (<carla.libcarla.Waypoint object at 0x0000023E0F5871B0>, <carla.libcarla.Waypoint object at 0x0000023E0F587210>), (<carla.libcarla.Waypoint object at 0x0000023E0F587270>, <carla.libcarla.Waypoint object at 0x0000023E0F5872D0>), (<carla.libcarla.Waypoint object at 0x0000023E0F587330>, <carla.libcarla.Waypoint object at 0x0000023E0F587390>), (<carla.libcarla.Waypoint object at 0x0000023E0F5873F0>, <carla.libcarla.Waypoint object at 0x0000023E0F587450>), (<carla.libcarla.Waypoint object at 0x0000023E0F5874B0>, <carla.libcarla.Waypoint object at 0x0000023E0F587510>), (<carla.libcarla.Waypoint object at 0x0000023E0F587570>, <carla.libcarla.Waypoint object at 0x0000023E0F5875D0>), (<carla.libcarla.Waypoint object at 0x0000023E0F587630>, <carla.libcarla.Waypoint object at 0x0000023E0F587690>), (<carla.libcarla.Waypoint object at 0x0000023E0F5876F0>, <carla.libcarla.Waypoint object at 0x0000023E0F587750>), (<carla.libcarla.Waypoint object at 0x0000023E0F5877B0>, <carla.libcarla.Waypoint object at 0x0000023E0F587810>), (<carla.libcarla.Waypoint object at 0x0000023E0F587870>, <carla.libcarla.Waypoint object at 0x0000023E0F5878D0>), (<carla.libcarla.Waypoint object at 0x0000023E0F587930>, <carla.libcarla.Waypoint object at 0x0000023E0F587990>), (<carla.libcarla.Waypoint object at 0x0000023E0F5879F0>, <carla.libcarla.Waypoint object at 0x0000023E0F587A50>), (<carla.libcarla.Waypoint object at 0x0000023E0F587AB0>, <carla.libcarla.Waypoint object at 0x0000023E0F587B10>), (<carla.libcarla.Waypoint object at 0x0000023E0F587B70>, <carla.libcarla.Waypoint object at 0x0000023E0F587BD0>), (<carla.libcarla.Waypoint object at 0x0000023E0F587C30>, <carla.libcarla.Waypoint object at 0x0000023E0F587C90>), (<carla.libcarla.Waypoint object at 0x0000023E0F587CF0>, <carla.libcarla.Waypoint object at 0x0000023E0F587D50>), (<carla.libcarla.Waypoint object at 0x0000023E0F587DB0>, <carla.libcarla.Waypoint object at 0x0000023E0F587E10>), (<carla.libcarla.Waypoint object at 0x0000023E0F587E70>, <carla.libcarla.Waypoint object at 0x0000023E0F587ED0>), (<carla.libcarla.Waypoint object at 0x0000023E0F587F30>, <carla.libcarla.Waypoint object at 0x0000023E0F587F90>), (<carla.libcarla.Waypoint object at 0x0000023E0F588030>, <carla.libcarla.Waypoint object at 0x0000023E0F588090>), (<carla.libcarla.Waypoint object at 0x0000023E0F5880F0>, <carla.libcarla.Waypoint object at 0x0000023E0F588150>), (<carla.libcarla.Waypoint object at 0x0000023E0F5881B0>, <carla.libcarla.Waypoint object at 0x0000023E0F588210>), (<carla.libcarla.Waypoint object at 0x0000023E0F588270>, <carla.libcarla.Waypoint object at 0x0000023E0F5882D0>), (<carla.libcarla.Waypoint object at 0x0000023E0F588330>, <carla.libcarla.Waypoint object at 0x0000023E0F588390>), (<carla.libcarla.Waypoint object at 0x0000023E0F5883F0>, <carla.libcarla.Waypoint object at 0x0000023E0F588450>), (<carla.libcarla.Waypoint object at 0x0000023E0F5884B0>, <carla.libcarla.Waypoint object at 0x0000023E0F588510>), (<carla.libcarla.Waypoint object at 0x0000023E0F588570>, <carla.libcarla.Waypoint object at 0x0000023E0F5885D0>), (<carla.libcarla.Waypoint object at 0x0000023E0F588630>, <carla.libcarla.Waypoint object at 0x0000023E0F588690>), (<carla.libcarla.Waypoint object at 0x0000023E0F5886F0>, <carla.libcarla.Waypoint object at 0x0000023E0F588750>), (<carla.libcarla.Waypoint object at 0x0000023E0F5887B0>, <carla.libcarla.Waypoint object at 0x0000023E0F588810>), (<carla.libcarla.Waypoint object at 0x0000023E0F588870>, <carla.libcarla.Waypoint object at 0x0000023E0F5888D0>), (<carla.libcarla.Waypoint object at 0x0000023E0F588930>, <carla.libcarla.Waypoint object at 0x0000023E0F588990>), (<carla.libcarla.Waypoint object at 0x0000023E0F5889F0>, <carla.libcarla.Waypoint object at 0x0000023E0F588A50>), (<carla.libcarla.Waypoint object at 0x0000023E0F588AB0>, <carla.libcarla.Waypoint object at 0x0000023E0F588B10>), (<carla.libcarla.Waypoint object at 0x0000023E0F588B70>, <carla.libcarla.Waypoint object at 0x0000023E0F588BD0>), (<carla.libcarla.Waypoint object at 0x0000023E0F588C30>, <carla.libcarla.Waypoint object at 0x0000023E0F588C90>), (<carla.libcarla.Waypoint object at 0x0000023E0F588CF0>, <carla.libcarla.Waypoint object at 0x0000023E0F588D50>), (<carla.libcarla.Waypoint object at 0x0000023E0F588DB0>, <carla.libcarla.Waypoint object at 0x0000023E0F588E10>), (<carla.libcarla.Waypoint object at 0x0000023E0F588E70>, <carla.libcarla.Waypoint object at 0x0000023E0F588ED0>), (<carla.libcarla.Waypoint object at 0x0000023E0F588F30>, <carla.libcarla.Waypoint object at 0x0000023E0F588F90>), (<carla.libcarla.Waypoint object at 0x0000023E0F589030>, <carla.libcarla.Waypoint object at 0x0000023E0F589090>), (<carla.libcarla.Waypoint object at 0x0000023E0F5890F0>, <carla.libcarla.Waypoint object at 0x0000023E0F589150>), (<carla.libcarla.Waypoint object at 0x0000023E0F5891B0>, <carla.libcarla.Waypoint object at 0x0000023E0F589210>), (<carla.libcarla.Waypoint object at 0x0000023E0F589270>, <carla.libcarla.Waypoint object at 0x0000023E0F5892D0>), (<carla.libcarla.Waypoint object at 0x0000023E0F589330>, <carla.libcarla.Waypoint object at 0x0000023E0F589390>), (<carla.libcarla.Waypoint object at 0x0000023E0F5893F0>, <carla.libcarla.Waypoint object at 0x0000023E0F589450>), (<carla.libcarla.Waypoint object at 0x0000023E0F5894B0>, <carla.libcarla.Waypoint object at 0x0000023E0F589510>), (<carla.libcarla.Waypoint object at 0x0000023E0F589570>, <carla.libcarla.Waypoint object at 0x0000023E0F5895D0>), (<carla.libcarla.Waypoint object at 0x0000023E0F589630>, <carla.libcarla.Waypoint object at 0x0000023E0F589690>), (<carla.libcarla.Waypoint object at 0x0000023E0F5896F0>, <carla.libcarla.Waypoint object at 0x0000023E0F589750>), (<carla.libcarla.Waypoint object at 0x0000023E0F5897B0>, <carla.libcarla.Waypoint object at 0x0000023E0F589810>), (<carla.libcarla.Waypoint object at 0x0000023E0F589870>, <carla.libcarla.Waypoint object at 0x0000023E0F5898D0>), (<carla.libcarla.Waypoint object at 0x0000023E0F589930>, <carla.libcarla.Waypoint object at 0x0000023E0F589990>), (<carla.libcarla.Waypoint object at 0x0000023E0F5899F0>, <carla.libcarla.Waypoint object at 0x0000023E0F589A50>), (<carla.libcarla.Waypoint object at 0x0000023E0F589AB0>, <carla.libcarla.Waypoint object at 0x0000023E0F589B10>), (<carla.libcarla.Waypoint object at 0x0000023E0F589B70>, <carla.libcarla.Waypoint object at 0x0000023E0F589BD0>), (<carla.libcarla.Waypoint object at 0x0000023E0F589C30>, <carla.libcarla.Waypoint object at 0x0000023E0F589C90>), (<carla.libcarla.Waypoint object at 0x0000023E0F589CF0>, <carla.libcarla.Waypoint object at 0x0000023E0F589D50>), (<carla.libcarla.Waypoint object at 0x0000023E0F589DB0>, <carla.libcarla.Waypoint object at 0x0000023E0F589E10>), (<carla.libcarla.Waypoint object at 0x0000023E0F589E70>, <carla.libcarla.Waypoint object at 0x0000023E0F589ED0>), (<carla.libcarla.Waypoint object at 0x0000023E0F589F30>, <carla.libcarla.Waypoint object at 0x0000023E0F589F90>), (<carla.libcarla.Waypoint object at 0x0000023E0F58A030>, <carla.libcarla.Waypoint object at 0x0000023E0F58A090>), (<carla.libcarla.Waypoint object at 0x0000023E0F58A0F0>, <carla.libcarla.Waypoint object at 0x0000023E0F58A150>), (<carla.libcarla.Waypoint object at 0x0000023E0F58A1B0>, <carla.libcarla.Waypoint object at 0x0000023E0F58A210>), (<carla.libcarla.Waypoint object at 0x0000023E0F58A270>, <carla.libcarla.Waypoint object at 0x0000023E0F58A2D0>), (<carla.libcarla.Waypoint object at 0x0000023E0F58A330>, <carla.libcarla.Waypoint object at 0x0000023E0F58A390>), (<carla.libcarla.Waypoint object at 0x0000023E0F58A3F0>, <carla.libcarla.Waypoint object at 0x0000023E0F58A450>), (<carla.libcarla.Waypoint object at 0x0000023E0F58A4B0>, <carla.libcarla.Waypoint object at 0x0000023E0F58A510>), (<carla.libcarla.Waypoint object at 0x0000023E0F58A570>, <carla.libcarla.Waypoint object at 0x0000023E0F58A5D0>), (<carla.libcarla.Waypoint object at 0x0000023E0F58A630>, <carla.libcarla.Waypoint object at 0x0000023E0F58A690>), (<carla.libcarla.Waypoint object at 0x0000023E0F58A6F0>, <carla.libcarla.Waypoint object at 0x0000023E0F58A750>), (<carla.libcarla.Waypoint object at 0x0000023E0F58A7B0>, <carla.libcarla.Waypoint object at 0x0000023E0F58A810>), (<carla.libcarla.Waypoint object at 0x0000023E0F58A870>, <carla.libcarla.Waypoint object at 0x0000023E0F58A8D0>), (<carla.libcarla.Waypoint object at 0x0000023E0F58A930>, <carla.libcarla.Waypoint object at 0x0000023E0F58A990>), (<carla.libcarla.Waypoint object at 0x0000023E0F58A9F0>, <carla.libcarla.Waypoint object at 0x0000023E0F58AA50>), (<carla.libcarla.Waypoint object at 0x0000023E0F58AAB0>, <carla.libcarla.Waypoint object at 0x0000023E0F58AB10>), (<carla.libcarla.Waypoint object at 0x0000023E0F58AB70>, <carla.libcarla.Waypoint object at 0x0000023E0F58ABD0>), (<carla.libcarla.Waypoint object at 0x0000023E0F58AC30>, <carla.libcarla.Waypoint object at 0x0000023E0F58AC90>), (<carla.libcarla.Waypoint object at 0x0000023E0F58ACF0>, <carla.libcarla.Waypoint object at 0x0000023E0F58AD50>), (<carla.libcarla.Waypoint object at 0x0000023E0F58ADB0>, <carla.libcarla.Waypoint object at 0x0000023E0F58AE10>), (<carla.libcarla.Waypoint object at 0x0000023E0F58AE70>, <carla.libcarla.Waypoint object at 0x0000023E0F58AED0>), (<carla.libcarla.Waypoint object at 0x0000023E0F58AF30>, <carla.libcarla.Waypoint object at 0x0000023E0F58AF90>), (<carla.libcarla.Waypoint object at 0x0000023E0F58B030>, <carla.libcarla.Waypoint object at 0x0000023E0F58B090>), (<carla.libcarla.Waypoint object at 0x0000023E0F58B0F0>, <carla.libcarla.Waypoint object at 0x0000023E0F58B150>), (<carla.libcarla.Waypoint object at 0x0000023E0F58B1B0>, <carla.libcarla.Waypoint object at 0x0000023E0F58B210>), (<carla.libcarla.Waypoint object at 0x0000023E0F58B270>, <carla.libcarla.Waypoint object at 0x0000023E0F58B2D0>), (<carla.libcarla.Waypoint object at 0x0000023E0F58B330>, <carla.libcarla.Waypoint object at 0x0000023E0F58B390>), (<carla.libcarla.Waypoint object at 0x0000023E0F58B3F0>, <carla.libcarla.Waypoint object at 0x0000023E0F58B450>), (<carla.libcarla.Waypoint object at 0x0000023E0F58B4B0>, <carla.libcarla.Waypoint object at 0x0000023E0F58B510>), (<carla.libcarla.Waypoint object at 0x0000023E0F58B570>, <carla.libcarla.Waypoint object at 0x0000023E0F58B5D0>), (<carla.libcarla.Waypoint object at 0x0000023E0F58B630>, <carla.libcarla.Waypoint object at 0x0000023E0F58B690>), (<carla.libcarla.Waypoint object at 0x0000023E0F58B6F0>, <carla.libcarla.Waypoint object at 0x0000023E0F58B750>), (<carla.libcarla.Waypoint object at 0x0000023E0F58B7B0>, <carla.libcarla.Waypoint object at 0x0000023E0F58B810>), (<carla.libcarla.Waypoint object at 0x0000023E0F58B870>, <carla.libcarla.Waypoint object at 0x0000023E0F58B8D0>), (<carla.libcarla.Waypoint object at 0x0000023E0F58B930>, <carla.libcarla.Waypoint object at 0x0000023E0F58B990>), (<carla.libcarla.Waypoint object at 0x0000023E0F58B9F0>, <carla.libcarla.Waypoint object at 0x0000023E0F58BA50>), (<carla.libcarla.Waypoint object at 0x0000023E0F58BAB0>, <carla.libcarla.Waypoint object at 0x0000023E0F58BB10>), (<carla.libcarla.Waypoint object at 0x0000023E0F58BB70>, <carla.libcarla.Waypoint object at 0x0000023E0F58BBD0>)]\n"
     ]
    }
   ],
   "source": [
    "# topology is pairs of waypoints defining all roads - tuples of those\n",
    "print(roads)\n"
   ]
  },
  {
   "cell_type": "code",
   "execution_count": 13,
   "id": "37b9456f",
   "metadata": {},
   "outputs": [
    {
     "name": "stdout",
     "output_type": "stream",
     "text": [
      "Waypoint(Transform(Location(x=109.929878, y=-9.334196, z=0.000000), Rotation(pitch=0.000000, yaw=-89.609253, roll=0.000000)))\n"
     ]
    }
   ],
   "source": [
    "#have a look at a waypoint - it is transform wrapped as a waypoint\n",
    "print(roads[0][0])\n"
   ]
  },
  {
   "cell_type": "code",
   "execution_count": null,
   "id": "87a6636a",
   "metadata": {},
   "outputs": [],
   "source": []
  },
  {
   "cell_type": "code",
   "execution_count": 14,
   "id": "778cfe38",
   "metadata": {},
   "outputs": [
    {
     "data": {
      "text/plain": [
       "200"
      ]
     },
     "execution_count": 14,
     "metadata": {},
     "output_type": "execute_result"
    }
   ],
   "source": [
    "len(roads)"
   ]
  },
  {
   "cell_type": "code",
   "execution_count": 15,
   "id": "9e8cf8ce",
   "metadata": {},
   "outputs": [],
   "source": [
    "# making a route\n",
    "#from one position to another\n",
    "#pos 1: Transform(Location(x=50.477512, y=141.135620, z=0.001844), Rotation(pitch=0.000007, yaw=0.318098, roll=0.000000))\n",
    "#pos 2: Transform(Location(x=-64.644844, y=24.471010, z=0.600000), Rotation(pitch=0.000000, yaw=0.159198, roll=0.000000))"
   ]
  },
  {
   "cell_type": "code",
   "execution_count": 22,
   "id": "9d789284",
   "metadata": {
    "scrolled": true
   },
   "outputs": [],
   "source": [
    "# import some code coming with the sim\n",
    "import sys\n",
    "sys.path.append('D:/KP_Alexis_Doci/CARLA_0.9.15/WindowsNoEditor/PythonAPI/carla')\n",
    "from agents.navigation.global_route_planner import GlobalRoutePlanner"
   ]
  },
  {
   "cell_type": "code",
   "execution_count": 15,
   "id": "baefb365",
   "metadata": {},
   "outputs": [],
   "source": [
    "# using the code to plan the route and then draw it in the simulator\n",
    "#town10hd_map = world.get_map()\n"
   ]
  },
  {
   "cell_type": "code",
   "execution_count": 23,
   "id": "7da2021c",
   "metadata": {},
   "outputs": [],
   "source": [
    "# utility script of destruction\n",
    "\n",
    "for actor in world.get_actors().filter('*vehicle*'):\n",
    "    actor.destroy()\n",
    "for sensor in world.get_actors().filter('*sensor*'):\n",
    "    sensor.destroy()"
   ]
  },
  {
   "cell_type": "code",
   "execution_count": 6,
   "id": "b3327268",
   "metadata": {},
   "outputs": [],
   "source": [
    "# now we define 2 cars\n",
    "truck_bp = world.get_blueprint_library().filter('*firetruck*')\n",
    "mini_bp = world.get_blueprint_library().filter('*cooper_s*')\n",
    "\n",
    "#start first car in alredy defined start point\n",
    "truck = world.try_spawn_actor(truck_bp[0], start_point)"
   ]
  },
  {
   "cell_type": "code",
   "execution_count": 5,
   "id": "294fdfe1",
   "metadata": {},
   "outputs": [],
   "source": [
    "# tweak spectator position to watch the show\n",
    "\n",
    "spectator = world.get_spectator()\n",
    "spawn_points = world.get_map().get_spawn_points()\n",
    "start_point = spawn_points[0]\n",
    "\n",
    "spectator_pos = carla.Transform(start_point.location + carla.Location(x=20,y=10,z=4),\n",
    "                                carla.Rotation(yaw = start_point.rotation.yaw -155))\n",
    "\n",
    "spectator.set_transform(spectator_pos)"
   ]
  },
  {
   "cell_type": "code",
   "execution_count": 51,
   "id": "9dee8be0",
   "metadata": {},
   "outputs": [],
   "source": [
    "\n"
   ]
  },
  {
   "cell_type": "code",
   "execution_count": 19,
   "id": "894d141a",
   "metadata": {},
   "outputs": [],
   "source": [
    "# drop the Mini the sky - watch what happens after\n",
    "\n",
    "#spawn it first somewhere else\n",
    "mini = world.try_spawn_actor(mini_bp[0], spawn_points[10])\n",
    "\n",
    "mini_pos = carla.Transform(start_point.location + carla.Location(x=-4,z=10),\n",
    "                            carla.Rotation(yaw = start_point.rotation.yaw - 0))\n",
    "mini.set_transform(mini_pos)\n"
   ]
  },
  {
   "cell_type": "code",
   "execution_count": 17,
   "id": "4f057b2f",
   "metadata": {},
   "outputs": [],
   "source": [
    "import time\n",
    "for actor in world.get_actors().filter('*vehicle*'):\n",
    "    actor.destroy()\n",
    "for sensor in world.get_actors().filter('*sensor*'):\n",
    "    sensor.destroy()\n",
    "# now we define 2 cars\n",
    "truck_bp = world.get_blueprint_library().filter('*firetruck*')\n",
    "mini_bp = world.get_blueprint_library().filter('*cooper_s*')\n",
    "\n",
    "#start first car in alredy defined start point\n",
    "truck = world.try_spawn_actor(truck_bp[0], start_point)\n",
    "time.sleep(3)\n",
    "\n",
    "vw_bp = world.get_blueprint_library().filter('*volkswagen*')\n",
    "\n",
    "vw = world.try_spawn_actor(vw_bp[0], spawn_points[20])\n",
    "vw_pos = carla.Transform(start_point.location + carla.Location(x=1,z=6),\n",
    "                            carla.Rotation(yaw = start_point.rotation.yaw - 0))\n",
    "vw.set_transform(vw_pos)\n",
    "mini = world.try_spawn_actor(mini_bp[0], spawn_points[10])\n",
    "\n",
    "mini_pos = carla.Transform(start_point.location + carla.Location(x=1,z=10),\n",
    "                            carla.Rotation(yaw = start_point.rotation.yaw - 0))\n",
    "mini.set_transform(mini_pos)\n"
   ]
  },
  {
   "cell_type": "code",
   "execution_count": 9,
   "id": "820993f0",
   "metadata": {},
   "outputs": [],
   "source": [
    "vw_bp = world.get_blueprint_library().filter('*volkswagen*')"
   ]
  },
  {
   "cell_type": "code",
   "execution_count": 11,
   "id": "b97f830c",
   "metadata": {},
   "outputs": [
    {
     "name": "stdout",
     "output_type": "stream",
     "text": [
      "[ActorBlueprint(id=vehicle.nissan.micra,tags=[vehicle, nissan, micra]), ActorBlueprint(id=vehicle.audi.a2,tags=[vehicle, audi, a2]), ActorBlueprint(id=static.prop.plantpot04,tags=[static, prop, plantpot04]), ActorBlueprint(id=static.prop.bench02,tags=[bench02, static, prop]), ActorBlueprint(id=vehicle.mercedes.coupe_2020,tags=[vehicle, mercedes, coupe_2020]), ActorBlueprint(id=vehicle.audi.tt,tags=[vehicle, audi, tt]), ActorBlueprint(id=walker.pedestrian.0037,tags=[0037, walker, pedestrian]), ActorBlueprint(id=vehicle.harley-davidson.low_rider,tags=[harley-davidson, vehicle, low_rider]), ActorBlueprint(id=vehicle.bmw.grandtourer,tags=[vehicle, bmw, grandtourer]), ActorBlueprint(id=static.prop.trashcan05,tags=[static, prop, trashcan05]), ActorBlueprint(id=walker.pedestrian.0038,tags=[walker, pedestrian, 0038]), ActorBlueprint(id=vehicle.carlamotors.firetruck,tags=[vehicle, carlamotors, firetruck]), ActorBlueprint(id=vehicle.micro.microlino,tags=[vehicle, microlino, micro]), ActorBlueprint(id=vehicle.carlamotors.carlacola,tags=[vehicle, carlamotors, carlacola]), ActorBlueprint(id=vehicle.ford.mustang,tags=[vehicle, ford, mustang]), ActorBlueprint(id=vehicle.chevrolet.impala,tags=[impala, chevrolet, vehicle]), ActorBlueprint(id=vehicle.citroen.c3,tags=[vehicle, c3, citroen]), ActorBlueprint(id=vehicle.dodge.charger_police,tags=[vehicle, charger_police, dodge]), ActorBlueprint(id=vehicle.jeep.wrangler_rubicon,tags=[vehicle, jeep, wrangler_rubicon]), ActorBlueprint(id=static.prop.kiosk_01,tags=[static, prop, kiosk_01]), ActorBlueprint(id=vehicle.mercedes.coupe,tags=[vehicle, mercedes, coupe]), ActorBlueprint(id=static.prop.bike helmet,tags=[static, prop, bike helmet]), ActorBlueprint(id=walker.pedestrian.0046,tags=[0046, walker, pedestrian]), ActorBlueprint(id=vehicle.mini.cooper_s,tags=[vehicle, mini, cooper_s]), ActorBlueprint(id=vehicle.nissan.patrol,tags=[vehicle, nissan, patrol]), ActorBlueprint(id=static.prop.plantpot06,tags=[plantpot06, static, prop]), ActorBlueprint(id=vehicle.seat.leon,tags=[vehicle, seat, leon]), ActorBlueprint(id=vehicle.toyota.prius,tags=[toyota, vehicle, prius]), ActorBlueprint(id=vehicle.yamaha.yzf,tags=[vehicle, yamaha, yzf]), ActorBlueprint(id=vehicle.kawasaki.ninja,tags=[vehicle, kawasaki, ninja]), ActorBlueprint(id=vehicle.bh.crossbike,tags=[bh, vehicle, crossbike]), ActorBlueprint(id=vehicle.gazelle.omafiets,tags=[gazelle, vehicle, omafiets]), ActorBlueprint(id=vehicle.tesla.cybertruck,tags=[vehicle, tesla, cybertruck]), ActorBlueprint(id=vehicle.diamondback.century,tags=[century, vehicle, diamondback]), ActorBlueprint(id=static.prop.barrel,tags=[static, prop, barrel]), ActorBlueprint(id=vehicle.audi.etron,tags=[vehicle, audi, etron]), ActorBlueprint(id=static.prop.streetsign,tags=[streetsign, static, prop]), ActorBlueprint(id=static.prop.plantpot02,tags=[static, prop, plantpot02]), ActorBlueprint(id=vehicle.mitsubishi.fusorosa,tags=[vehicle, mitsubishi, fusorosa]), ActorBlueprint(id=vehicle.tesla.model3,tags=[vehicle, tesla, model3]), ActorBlueprint(id=vehicle.volkswagen.t2,tags=[vehicle, volkswagen, t2]), ActorBlueprint(id=vehicle.lincoln.mkz_2017,tags=[vehicle, mkz_2017, lincoln]), ActorBlueprint(id=static.prop.glasscontainer,tags=[static, prop, glasscontainer]), ActorBlueprint(id=vehicle.lincoln.mkz_2020,tags=[vehicle, lincoln, mkz_2020]), ActorBlueprint(id=vehicle.dodge.charger_2020,tags=[vehicle, dodge, charger_2020]), ActorBlueprint(id=vehicle.dodge.charger_police_2020,tags=[vehicle, dodge, charger_police_2020]), ActorBlueprint(id=vehicle.ford.ambulance,tags=[vehicle, ford, ambulance]), ActorBlueprint(id=vehicle.vespa.zx125,tags=[zx125, vehicle, vespa]), ActorBlueprint(id=static.prop.creasedbox02,tags=[static, prop, creasedbox02]), ActorBlueprint(id=vehicle.mini.cooper_s_2021,tags=[vehicle, mini, cooper_s_2021]), ActorBlueprint(id=walker.pedestrian.0021,tags=[walker, 0021, pedestrian]), ActorBlueprint(id=vehicle.nissan.patrol_2021,tags=[patrol_2021, vehicle, nissan]), ActorBlueprint(id=walker.pedestrian.0031,tags=[walker, pedestrian, 0031]), ActorBlueprint(id=vehicle.mercedes.sprinter,tags=[vehicle, mercedes, sprinter]), ActorBlueprint(id=vehicle.ford.crown,tags=[vehicle, ford, crown]), ActorBlueprint(id=static.prop.pergola,tags=[static, prop, pergola]), ActorBlueprint(id=vehicle.volkswagen.t2_2021,tags=[t2_2021, vehicle, volkswagen]), ActorBlueprint(id=walker.pedestrian.0010,tags=[walker, 0010, pedestrian]), ActorBlueprint(id=sensor.other.collision,tags=[sensor, other, collision]), ActorBlueprint(id=sensor.camera.optical_flow,tags=[sensor, camera, optical_flow]), ActorBlueprint(id=sensor.camera.depth,tags=[sensor, camera, depth]), ActorBlueprint(id=static.prop.ironplank,tags=[static, prop, ironplank]), ActorBlueprint(id=sensor.camera.normals,tags=[normals, sensor, camera]), ActorBlueprint(id=static.prop.warningconstruction,tags=[static, prop, warningconstruction]), ActorBlueprint(id=sensor.camera.dvs,tags=[sensor, camera, dvs]), ActorBlueprint(id=sensor.other.gnss,tags=[sensor, other, gnss]), ActorBlueprint(id=walker.pedestrian.0013,tags=[walker, pedestrian, 0013]), ActorBlueprint(id=sensor.other.imu,tags=[sensor, other, imu]), ActorBlueprint(id=static.prop.platformgarbage01,tags=[static, prop, platformgarbage01]), ActorBlueprint(id=sensor.other.lane_invasion,tags=[lane_invasion, sensor, other]), ActorBlueprint(id=static.prop.doghouse,tags=[static, prop, doghouse]), ActorBlueprint(id=walker.pedestrian.0024,tags=[walker, pedestrian, 0024]), ActorBlueprint(id=sensor.other.obstacle,tags=[sensor, other, obstacle]), ActorBlueprint(id=static.prop.creasedbox01,tags=[static, prop, creasedbox01]), ActorBlueprint(id=sensor.other.radar,tags=[radar, sensor, other]), ActorBlueprint(id=sensor.lidar.ray_cast_semantic,tags=[sensor, lidar, ray_cast_semantic]), ActorBlueprint(id=walker.pedestrian.0007,tags=[walker, pedestrian, 0007]), ActorBlueprint(id=sensor.lidar.ray_cast,tags=[sensor, lidar, ray_cast]), ActorBlueprint(id=static.prop.trashcan03,tags=[static, prop, trashcan03]), ActorBlueprint(id=sensor.other.rss,tags=[rss, sensor, other]), ActorBlueprint(id=sensor.camera.rgb,tags=[sensor, camera, rgb]), ActorBlueprint(id=sensor.camera.semantic_segmentation,tags=[sensor, camera, semantic_segmentation]), ActorBlueprint(id=static.prop.dirtdebris02,tags=[static, prop, dirtdebris02]), ActorBlueprint(id=sensor.camera.instance_segmentation,tags=[sensor, camera, instance_segmentation]), ActorBlueprint(id=walker.pedestrian.0001,tags=[walker, pedestrian, 0001]), ActorBlueprint(id=walker.pedestrian.0002,tags=[0002, walker, pedestrian]), ActorBlueprint(id=walker.pedestrian.0003,tags=[walker, 0003, pedestrian]), ActorBlueprint(id=static.prop.atm,tags=[static, prop, atm]), ActorBlueprint(id=walker.pedestrian.0004,tags=[walker, pedestrian, 0004]), ActorBlueprint(id=walker.pedestrian.0005,tags=[walker, pedestrian, 0005]), ActorBlueprint(id=walker.pedestrian.0006,tags=[walker, pedestrian, 0006]), ActorBlueprint(id=static.prop.garbage05,tags=[garbage05, static, prop]), ActorBlueprint(id=walker.pedestrian.0008,tags=[walker, pedestrian, 0008]), ActorBlueprint(id=static.prop.garbage04,tags=[static, garbage04, prop]), ActorBlueprint(id=walker.pedestrian.0009,tags=[walker, pedestrian, 0009]), ActorBlueprint(id=walker.pedestrian.0011,tags=[0011, walker, pedestrian]), ActorBlueprint(id=walker.pedestrian.0012,tags=[walker, pedestrian, 0012]), ActorBlueprint(id=walker.pedestrian.0014,tags=[walker, pedestrian, 0014]), ActorBlueprint(id=walker.pedestrian.0015,tags=[walker, pedestrian, 0015]), ActorBlueprint(id=walker.pedestrian.0016,tags=[walker, pedestrian, 0016]), ActorBlueprint(id=walker.pedestrian.0017,tags=[walker, pedestrian, 0017]), ActorBlueprint(id=walker.pedestrian.0018,tags=[walker, 0018, pedestrian]), ActorBlueprint(id=walker.pedestrian.0019,tags=[0019, walker, pedestrian]), ActorBlueprint(id=static.prop.plasticbag,tags=[plasticbag, static, prop]), ActorBlueprint(id=static.prop.busstop,tags=[static, prop, busstop]), ActorBlueprint(id=walker.pedestrian.0020,tags=[0020, walker, pedestrian]), ActorBlueprint(id=walker.pedestrian.0022,tags=[walker, pedestrian, 0022]), ActorBlueprint(id=static.prop.clothcontainer,tags=[static, prop, clothcontainer]), ActorBlueprint(id=walker.pedestrian.0023,tags=[walker, pedestrian, 0023]), ActorBlueprint(id=walker.pedestrian.0025,tags=[walker, pedestrian, 0025]), ActorBlueprint(id=static.prop.fountain,tags=[static, prop, fountain]), ActorBlueprint(id=walker.pedestrian.0026,tags=[walker, pedestrian, 0026]), ActorBlueprint(id=walker.pedestrian.0027,tags=[walker, pedestrian, 0027]), ActorBlueprint(id=walker.pedestrian.0028,tags=[0028, walker, pedestrian]), ActorBlueprint(id=static.prop.advertisement,tags=[static, prop, advertisement]), ActorBlueprint(id=walker.pedestrian.0029,tags=[walker, 0029, pedestrian]), ActorBlueprint(id=walker.pedestrian.0030,tags=[walker, pedestrian, 0030]), ActorBlueprint(id=static.prop.slide,tags=[static, prop, slide]), ActorBlueprint(id=walker.pedestrian.0032,tags=[walker, pedestrian, 0032]), ActorBlueprint(id=walker.pedestrian.0033,tags=[walker, pedestrian, 0033]), ActorBlueprint(id=walker.pedestrian.0034,tags=[walker, pedestrian, 0034]), ActorBlueprint(id=walker.pedestrian.0035,tags=[walker, pedestrian, 0035]), ActorBlueprint(id=static.prop.colacan,tags=[static, prop, colacan]), ActorBlueprint(id=walker.pedestrian.0036,tags=[walker, 0036, pedestrian]), ActorBlueprint(id=static.prop.trashcan04,tags=[static, prop, trashcan04]), ActorBlueprint(id=static.prop.plastictable,tags=[static, prop, plastictable]), ActorBlueprint(id=walker.pedestrian.0039,tags=[walker, pedestrian, 0039]), ActorBlueprint(id=static.prop.mailbox,tags=[mailbox, static, prop]), ActorBlueprint(id=walker.pedestrian.0040,tags=[walker, pedestrian, 0040]), ActorBlueprint(id=walker.pedestrian.0041,tags=[walker, pedestrian, 0041]), ActorBlueprint(id=walker.pedestrian.0042,tags=[walker, pedestrian, 0042]), ActorBlueprint(id=walker.pedestrian.0043,tags=[walker, pedestrian, 0043]), ActorBlueprint(id=static.prop.swingcouch,tags=[static, prop, swingcouch]), ActorBlueprint(id=walker.pedestrian.0044,tags=[walker, pedestrian, 0044]), ActorBlueprint(id=walker.pedestrian.0045,tags=[walker, pedestrian, 0045]), ActorBlueprint(id=walker.pedestrian.0047,tags=[walker, 0047, pedestrian]), ActorBlueprint(id=walker.pedestrian.0048,tags=[walker, pedestrian, 0048]), ActorBlueprint(id=walker.pedestrian.0049,tags=[walker, pedestrian, 0049]), ActorBlueprint(id=static.prop.barbeque,tags=[static, barbeque, prop]), ActorBlueprint(id=static.prop.plantpot07,tags=[static, plantpot07, prop]), ActorBlueprint(id=static.prop.bench01,tags=[static, prop, bench01]), ActorBlueprint(id=static.prop.plantpot05,tags=[static, prop, plantpot05]), ActorBlueprint(id=static.prop.bench03,tags=[static, bench03, prop]), ActorBlueprint(id=static.prop.bin,tags=[static, prop, bin]), ActorBlueprint(id=static.prop.garbage03,tags=[static, prop, garbage03]), ActorBlueprint(id=static.prop.box01,tags=[static, prop, box01]), ActorBlueprint(id=static.prop.box02,tags=[static, prop, box02]), ActorBlueprint(id=static.prop.garbage01,tags=[static, prop, garbage01]), ActorBlueprint(id=static.prop.box03,tags=[static, prop, box03]), ActorBlueprint(id=static.prop.table,tags=[static, prop, table]), ActorBlueprint(id=static.prop.briefcase,tags=[briefcase, static, prop]), ActorBlueprint(id=static.prop.brokentile01,tags=[static, prop, brokentile01]), ActorBlueprint(id=static.prop.brokentile02,tags=[static, prop, brokentile02]), ActorBlueprint(id=static.prop.trafficcone02,tags=[static, prop, trafficcone02]), ActorBlueprint(id=static.prop.brokentile03,tags=[static, prop, brokentile03]), ActorBlueprint(id=static.prop.brokentile04,tags=[static, brokentile04, prop]), ActorBlueprint(id=static.prop.vendingmachine,tags=[vendingmachine, static, prop]), ActorBlueprint(id=static.prop.chainbarrier,tags=[static, prop, chainbarrier]), ActorBlueprint(id=static.prop.chainbarrierend,tags=[static, prop, chainbarrierend]), ActorBlueprint(id=static.prop.shoppingbag,tags=[static, prop, shoppingbag]), ActorBlueprint(id=static.prop.clothesline,tags=[static, prop, clothesline]), ActorBlueprint(id=static.prop.constructioncone,tags=[static, prop, constructioncone]), ActorBlueprint(id=static.prop.container,tags=[static, container, prop]), ActorBlueprint(id=static.prop.creasedbox03,tags=[static, prop, creasedbox03]), ActorBlueprint(id=static.prop.dirtdebris01,tags=[static, prop, dirtdebris01]), ActorBlueprint(id=static.prop.dirtdebris03,tags=[static, prop, dirtdebris03]), ActorBlueprint(id=static.prop.garbage02,tags=[static, prop, garbage02]), ActorBlueprint(id=static.prop.plasticchair,tags=[static, prop, plasticchair]), ActorBlueprint(id=static.prop.garbage06,tags=[static, prop, garbage06]), ActorBlueprint(id=static.prop.calibrator,tags=[static, prop, calibrator]), ActorBlueprint(id=static.prop.gardenlamp,tags=[static, prop, gardenlamp]), ActorBlueprint(id=static.prop.gnome,tags=[static, prop, gnome]), ActorBlueprint(id=static.prop.guitarcase,tags=[guitarcase, static, prop]), ActorBlueprint(id=static.prop.maptable,tags=[maptable, static, prop]), ActorBlueprint(id=static.prop.mobile,tags=[static, prop, mobile]), ActorBlueprint(id=static.prop.plantpot08,tags=[static, prop, plantpot08]), ActorBlueprint(id=static.prop.motorhelmet,tags=[static, prop, motorhelmet]), ActorBlueprint(id=static.prop.plantpot01,tags=[static, prop, plantpot01]), ActorBlueprint(id=static.prop.plantpot03,tags=[static, prop, plantpot03]), ActorBlueprint(id=static.prop.purse,tags=[static, purse, prop]), ActorBlueprint(id=static.prop.shoppingcart,tags=[static, prop, shoppingcart]), ActorBlueprint(id=static.prop.shoppingtrolley,tags=[static, prop, shoppingtrolley]), ActorBlueprint(id=static.prop.streetsign01,tags=[static, streetsign01, prop]), ActorBlueprint(id=static.prop.haybalelb,tags=[static, prop, haybalelb]), ActorBlueprint(id=static.prop.streetsign04,tags=[static, prop, streetsign04]), ActorBlueprint(id=static.prop.streetbarrier,tags=[static, prop, streetbarrier]), ActorBlueprint(id=static.prop.streetfountain,tags=[static, prop, streetfountain]), ActorBlueprint(id=static.prop.swing,tags=[static, prop, swing]), ActorBlueprint(id=static.prop.trafficcone01,tags=[static, prop, trafficcone01]), ActorBlueprint(id=static.prop.trafficwarning,tags=[static, prop, trafficwarning]), ActorBlueprint(id=static.prop.trampoline,tags=[static, prop, trampoline]), ActorBlueprint(id=static.prop.trashbag,tags=[static, prop, trashbag]), ActorBlueprint(id=static.prop.trashcan01,tags=[static, prop, trashcan01]), ActorBlueprint(id=static.prop.trashcan02,tags=[static, prop, trashcan02]), ActorBlueprint(id=static.prop.travelcase,tags=[static, prop, travelcase]), ActorBlueprint(id=static.prop.wateringcan,tags=[static, prop, wateringcan]), ActorBlueprint(id=static.prop.foodcart,tags=[foodcart, static, prop]), ActorBlueprint(id=static.prop.haybale,tags=[haybale, static, prop]), ActorBlueprint(id=static.prop.busstoplb,tags=[static, prop, busstoplb]), ActorBlueprint(id=static.prop.mesh,tags=[static, prop, mesh]), ActorBlueprint(id=static.prop.warningaccident,tags=[static, prop, warningaccident]), ActorBlueprint(id=static.trigger.friction,tags=[friction, trigger, static]), ActorBlueprint(id=controller.ai.walker,tags=[controller, walker, ai])]\n"
     ]
    }
   ],
   "source": [
    "vehicle_all = world.get_blueprint_library()\n",
    "print(vehicle_all)"
   ]
  },
  {
   "cell_type": "code",
   "execution_count": null,
   "id": "59ca3de0",
   "metadata": {},
   "outputs": [],
   "source": []
  }
 ],
 "metadata": {
  "kernelspec": {
   "display_name": "Python 3 (ipykernel)",
   "language": "python",
   "name": "python3"
  },
  "language_info": {
   "codemirror_mode": {
    "name": "ipython",
    "version": 3
   },
   "file_extension": ".py",
   "mimetype": "text/x-python",
   "name": "python",
   "nbconvert_exporter": "python",
   "pygments_lexer": "ipython3",
   "version": "3.7.16"
  }
 },
 "nbformat": 4,
 "nbformat_minor": 5
}
