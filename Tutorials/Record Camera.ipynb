{
 "cells": [
  {
   "cell_type": "code",
   "execution_count": 1,
   "id": "bef1c7d1",
   "metadata": {},
   "outputs": [],
   "source": [
    "import carla #the sim library itself\n",
    "import random #to pick random spawn point\n",
    "import cv2 #to work with images from cameras\n",
    "import numpy as np #in this example to change image representation - re-shaping\n",
    "import time\n",
    "import os\n",
    "import logging"
   ]
  },
  {
   "cell_type": "code",
   "execution_count": 2,
   "id": "e956b25d",
   "metadata": {},
   "outputs": [
    {
     "name": "stdout",
     "output_type": "stream",
     "text": [
      "Connected to CARLA world:\n"
     ]
    }
   ],
   "source": [
    "# # connect to the sim \n",
    "# client = carla.Client('localhost', 2000)\n",
    "\n",
    "try:\n",
    "    # Connect to the server on localhost at port 2000\n",
    "    client = carla.Client('localhost', 2000)\n",
    "    client.set_timeout(10.0)  # seconds\n",
    "\n",
    "    # Retrieve the worl\n",
    "    print(\"Connected to CARLA world:\")\n",
    "\n",
    "except Exception as e:\n",
    "    print(\"Failed to connect to CARLA:\", e)"
   ]
  },
  {
   "cell_type": "code",
   "execution_count": 3,
   "id": "59ac77f2",
   "metadata": {},
   "outputs": [
    {
     "data": {
      "text/plain": [
       "<carla.libcarla.World at 0x161d8b5fc00>"
      ]
     },
     "execution_count": 3,
     "metadata": {},
     "output_type": "execute_result"
    }
   ],
   "source": [
    "# optional to load different towns\n",
    "#client.set_timeout(15)\n",
    "client.load_world('Town01')"
   ]
  },
  {
   "cell_type": "code",
   "execution_count": 4,
   "id": "7059dda7",
   "metadata": {},
   "outputs": [],
   "source": [
    "world = client.get_world()\n",
    "spawn_points = world.get_map().get_spawn_points()"
   ]
  },
  {
   "cell_type": "code",
   "execution_count": 5,
   "id": "14b90c39",
   "metadata": {},
   "outputs": [
    {
     "name": "stdout",
     "output_type": "stream",
     "text": [
      "Traffic Manager configured.\n"
     ]
    }
   ],
   "source": [
    "# Cell 1: Setup Traffic Manager\n",
    "tm_port = 8000\n",
    "traffic_manager = client.get_trafficmanager(tm_port)\n",
    "traffic_manager.set_global_distance_to_leading_vehicle(2.5)\n",
    "\n",
    "# Optional: enable hybrid mode for large maps\n",
    "traffic_manager.set_hybrid_physics_mode(True)\n",
    "traffic_manager.set_hybrid_physics_radius(70.0)\n",
    "print(\"Traffic Manager configured.\")"
   ]
  },
  {
   "cell_type": "code",
   "execution_count": 6,
   "id": "d767d786",
   "metadata": {},
   "outputs": [
    {
     "name": "stdout",
     "output_type": "stream",
     "text": [
      "Synchronous mode enabled: True, fixed delta seconds: 0.05\n"
     ]
    }
   ],
   "source": [
    "# Cell 2: Configure synchronous mode\n",
    "settings = world.get_settings()\n",
    "synchronous_master = False\n",
    "\n",
    "if not settings.synchronous_mode:\n",
    "    settings.synchronous_mode = True\n",
    "    settings.fixed_delta_seconds = 0.05\n",
    "    synchronous_master = True\n",
    "    world.apply_settings(settings)\n",
    "print(f\"Synchronous mode enabled: {settings.synchronous_mode}, fixed delta seconds: {settings.fixed_delta_seconds}\")"
   ]
  },
  {
   "cell_type": "code",
   "execution_count": 7,
   "id": "8f62a71e",
   "metadata": {},
   "outputs": [
    {
     "name": "stdout",
     "output_type": "stream",
     "text": [
      "Number of vehicles to spawn: 30\n"
     ]
    }
   ],
   "source": [
    "# Cell 3: Prepare spawn points and vehicle blueprints\n",
    "import random\n",
    "\n",
    "vehicle_blueprints = world.get_blueprint_library().filter('vehicle.*')\n",
    "\n",
    "random.shuffle(spawn_points)\n",
    "\n",
    "number_of_vehicles = min(30, len(spawn_points))\n",
    "print(f\"Number of vehicles to spawn: {number_of_vehicles}\")\n"
   ]
  },
  {
   "cell_type": "code",
   "execution_count": 8,
   "id": "dd2f9de1",
   "metadata": {},
   "outputs": [
    {
     "name": "stdout",
     "output_type": "stream",
     "text": [
      "Spawned 30 vehicles.\n"
     ]
    }
   ],
   "source": [
    "# Cell 4: Spawn vehicles with autopilot\n",
    "vehicles_list = []\n",
    "batch = []\n",
    "\n",
    "for n in range(number_of_vehicles):\n",
    "    bp = random.choice(vehicle_blueprints)\n",
    "    if bp.has_attribute('color'):\n",
    "        color = random.choice(bp.get_attribute('color').recommended_values)\n",
    "        bp.set_attribute('color', color)\n",
    "    if bp.has_attribute('driver_id'):\n",
    "        driver_id = random.choice(bp.get_attribute('driver_id').recommended_values)\n",
    "        bp.set_attribute('driver_id', driver_id)\n",
    "    bp.set_attribute('role_name', 'autopilot')\n",
    "    transform = spawn_points[n]\n",
    "    if n == 0:\n",
    "        # For the first vehicle: only spawn (no autopilot yet)\n",
    "        batch.append(carla.command.SpawnActor(bp, transform))\n",
    "    else:\n",
    "        # For others: spawn and set autopilot immediately\n",
    "        batch.append(carla.command.SpawnActor(bp, transform).then(\n",
    "            carla.command.SetAutopilot(carla.command.FutureActor, True, tm_port)\n",
    "        ))\n",
    "        \n",
    "responses = client.apply_batch_sync(batch, synchronous_master)\n",
    "for response in responses:\n",
    "    if response.error:\n",
    "        import logging\n",
    "        logging.error(response.error)\n",
    "    else:\n",
    "        vehicles_list.append(response.actor_id)\n",
    "\n",
    "print(f\"Spawned {len(vehicles_list)} vehicles.\")\n"
   ]
  },
  {
   "cell_type": "code",
   "execution_count": null,
   "id": "9e574afb",
   "metadata": {},
   "outputs": [
    {
     "name": "stdout",
     "output_type": "stream",
     "text": [
      "Walker spawn points generated: 5\n"
     ]
    }
   ],
   "source": [
    "# Cell 5: Prepare to spawn walkers\n",
    "walker_blueprints = world.get_blueprint_library().filter('walker.pedestrian.*')\n",
    "number_of_walkers = 10\n",
    "walkers_list = []\n",
    "spawn_points = []\n",
    "\n",
    "for _ in range(number_of_walkers):\n",
    "    loc = world.get_random_location_from_navigation()\n",
    "    if loc is not None:\n",
    "        spawn_points.append(carla.Transform(loc))\n",
    "\n",
    "print(f\"Walker spawn points generated: {len(spawn_points)}\")\n"
   ]
  },
  {
   "cell_type": "code",
   "execution_count": 10,
   "id": "d78b5c98",
   "metadata": {},
   "outputs": [
    {
     "name": "stdout",
     "output_type": "stream",
     "text": [
      "Spawned 5 walkers.\n"
     ]
    }
   ],
   "source": [
    "# Cell 6: Spawn walkers (pedestrians)\n",
    "walker_speed = []\n",
    "batch = []\n",
    "\n",
    "for spawn_point in spawn_points:\n",
    "    walker_bp = random.choice(walker_blueprints)\n",
    "    if walker_bp.has_attribute('is_invincible'):\n",
    "        walker_bp.set_attribute('is_invincible', 'false')\n",
    "    speed = walker_bp.get_attribute('speed').recommended_values[1]\n",
    "    walker_speed.append(float(speed))\n",
    "    batch.append(carla.command.SpawnActor(walker_bp, spawn_point))\n",
    "\n",
    "results = client.apply_batch_sync(batch, True)\n",
    "for i, result in enumerate(results):\n",
    "    if result.error:\n",
    "        logging.error(result.error)\n",
    "    else:\n",
    "        walkers_list.append({\"id\": result.actor_id})\n",
    "print(f\"Spawned {len(walkers_list)} walkers.\")\n"
   ]
  },
  {
   "cell_type": "code",
   "execution_count": 11,
   "id": "d9fda591",
   "metadata": {},
   "outputs": [
    {
     "name": "stdout",
     "output_type": "stream",
     "text": [
      "Spawned controllers for walkers.\n"
     ]
    }
   ],
   "source": [
    "# Cell 7: Spawn controllers for walkers\n",
    "controller_bp = world.get_blueprint_library().find('controller.ai.walker')\n",
    "batch = []\n",
    "\n",
    "for walker in walkers_list:\n",
    "    batch.append(carla.command.SpawnActor(controller_bp, carla.Transform(), walker[\"id\"]))\n",
    "\n",
    "results = client.apply_batch_sync(batch, True)\n",
    "for i, result in enumerate(results):\n",
    "    if result.error:\n",
    "        logging.error(result.error)\n",
    "    else:\n",
    "        walkers_list[i][\"con\"] = result.actor_id\n",
    "\n",
    "print(\"Spawned controllers for walkers.\")\n"
   ]
  },
  {
   "cell_type": "code",
   "execution_count": 12,
   "id": "de5f642a",
   "metadata": {},
   "outputs": [
    {
     "name": "stdout",
     "output_type": "stream",
     "text": [
      "Started 5 walkers with destinations.\n"
     ]
    }
   ],
   "source": [
    "# Cell 8: Start walkers and assign random destinations\n",
    "all_id = []\n",
    "for w in walkers_list:\n",
    "    all_id.extend([w[\"con\"], w[\"id\"]])\n",
    "all_actors = world.get_actors(all_id)\n",
    "\n",
    "world.tick()\n",
    "\n",
    "for i in range(0, len(all_id), 2):\n",
    "    controller = all_actors[i]\n",
    "    actor = all_actors[i + 1]\n",
    "    controller.start()\n",
    "    controller.go_to_location(world.get_random_location_from_navigation())\n",
    "    controller.set_max_speed(walker_speed[i // 2])\n",
    "\n",
    "print(f\"Started {len(walkers_list)} walkers with destinations.\")\n"
   ]
  },
  {
   "cell_type": "code",
   "execution_count": 17,
   "id": "a43cd2c7",
   "metadata": {
    "scrolled": true
   },
   "outputs": [
    {
     "name": "stdout",
     "output_type": "stream",
     "text": [
      "Starting ticking loop. Press Interrupt (Ctrl+C) to stop.\n",
      "Ticking loop stopped by user.\n"
     ]
    }
   ],
   "source": [
    "# Cell 2.1: Keep ticking the world in synchronous mode\n",
    "import time\n",
    "\n",
    "print(\"Starting ticking loop. Press Interrupt (Ctrl+C) to stop.\")\n",
    "try:\n",
    "    while True:\n",
    "        world.tick()\n",
    "        time.sleep(0.05)  # match fixed_delta_seconds to avoid busy wait\n",
    "except KeyboardInterrupt:\n",
    "    print(\"Ticking loop stopped by user.\")"
   ]
  },
  {
   "cell_type": "code",
   "execution_count": 14,
   "id": "2ef9a793",
   "metadata": {},
   "outputs": [],
   "source": [
    "# move simulator view to the car\n",
    "spawn_points = world.get_map().get_spawn_points()\n",
    "start_point = spawn_points[2]\n",
    "spectator = world.get_spectator()\n",
    "start_point.location.z = start_point.location.z+1 #start_point was used to spawn the car but we move 1m up to avoid being on the floor\n",
    "spectator.set_transform(start_point)"
   ]
  },
  {
   "cell_type": "code",
   "execution_count": 15,
   "id": "2eb657fe",
   "metadata": {},
   "outputs": [],
   "source": [
    "#look for a blueprint of Mini car\n",
    "vehicle_bp = world.get_blueprint_library().filter('*Audi*')"
   ]
  },
  {
   "cell_type": "code",
   "execution_count": 16,
   "id": "9fc19e1f",
   "metadata": {},
   "outputs": [],
   "source": [
    "#spawn a car in a random location (first spawn point in the list)\n",
    "vehicle = world.try_spawn_actor(vehicle_bp[0], start_point)\n"
   ]
  },
  {
   "cell_type": "code",
   "execution_count": 26,
   "id": "887fa7d6",
   "metadata": {},
   "outputs": [],
   "source": [
    "# Setup bird eye view\n",
    "\n",
    "CAMERA_POS_Z = 15       # 15 meters above ground\n",
    "CAMERA_ROT_X = -90.0    # Camera looks straight down\n",
    "\n",
    "# === Get blueprint library ===\n",
    "blueprint_library = world.get_blueprint_library()\n",
    "\n",
    "# === RGB Camera blueprint ===\n",
    "camera_rgb_bp = blueprint_library.find('sensor.camera.rgb')\n",
    "camera_rgb_bp.set_attribute('image_size_x', '640')\n",
    "camera_rgb_bp.set_attribute('image_size_y', '360')\n",
    "\n",
    "# === Camera Transform ===\n",
    "camera_init_trans = carla.Transform(\n",
    "    carla.Location(z=CAMERA_POS_Z),\n",
    "    carla.Rotation(pitch=CAMERA_ROT_X)\n",
    ")\n",
    "\n",
    "# === Spawn RGB Camera actor ===\n",
    "camera_rgb = world.spawn_actor(camera_rgb_bp, camera_init_trans, attach_to=vehicle)\n",
    "\n",
    "# === Semantic Segmentation Camera blueprint ===\n",
    "camera_seg_bp = blueprint_library.find('sensor.camera.semantic_segmentation')\n",
    "camera_seg_bp.set_attribute('image_size_x', '640')\n",
    "camera_seg_bp.set_attribute('image_size_y', '360')\n",
    "\n",
    "# === Spawn Semantic Segmentation Camera actor ===\n",
    "camera_seg = world.spawn_actor(camera_seg_bp, camera_init_trans, attach_to=vehicle)\n",
    "\n",
    "# === Lidar Camera blueprint ===\n",
    "camera_lidar_bp = blueprint_library.find('sensor.lidar.ray_cast')\n",
    "camera_lidar_bp.set_attribute('channels', '32')\n",
    "camera_lidar_bp.set_attribute('range', '50')\n",
    "camera_lidar_bp.set_attribute('rotation_frequency', '10')\n",
    "\n",
    "# === Spawn Lidar Camera actor ===\n",
    "camera_lidar = world.spawn_actor(camera_lidar_bp, camera_init_trans, attach_to=vehicle)\n",
    "\n",
    "# === Depth Camera blueprint ===\n",
    "camera_depth_bp = blueprint_library.find('sensor.camera.depth')\n",
    "camera_depth_bp.set_attribute('image_size_x', '640')\n",
    "camera_depth_bp.set_attribute('image_size_y', '360')\n",
    "\n",
    "# === Spawn Depth Camera actor ===\n",
    "camera_depth = world.spawn_actor(camera_depth_bp, camera_init_trans, attach_to=vehicle)\n"
   ]
  },
  {
   "cell_type": "code",
   "execution_count": 31,
   "id": "322dbcd0",
   "metadata": {},
   "outputs": [],
   "source": [
    "# Setup window car view\n",
    "\n",
    "CAMERA_POS_Z = 1       # 15 meters above ground\n",
    "\n",
    "# === Camera Transform ===\n",
    "camera_init_trans_window = carla.Transform(\n",
    "    carla.Location(z=CAMERA_POS_Z)\n",
    ")\n",
    "\n",
    "# === Spawn RGB Camera actor ===\n",
    "camera_rgb_window = world.spawn_actor(camera_rgb_bp, camera_init_trans_window, attach_to=vehicle)\n",
    "\n",
    "# === Spawn Semantic Segmentation Camera actor ===\n",
    "camera_seg_window = world.spawn_actor(camera_seg_bp, camera_init_trans_window, attach_to=vehicle)\n",
    "\n",
    "# === Spawn Lidar Camera actor ===\n",
    "camera_lidar_window = world.spawn_actor(camera_lidar_bp, camera_init_trans_window, attach_to=vehicle)\n",
    "\n",
    "# === Spawn Depth Camera actor ===\n",
    "camera_depth_window = world.spawn_actor(camera_depth_bp, camera_init_trans_window, attach_to=vehicle)\n"
   ]
  },
  {
   "cell_type": "code",
   "execution_count": 34,
   "id": "531f8459",
   "metadata": {},
   "outputs": [],
   "source": [
    "# bird eye view\n",
    "os.makedirs('D:/KP_Alexis_Doci/rgb', exist_ok=True)\n",
    "os.makedirs('D:/KP_Alexis_Doci/seg', exist_ok=True)\n",
    "os.makedirs('D:/KP_Alexis_Doci/rgb', exist_ok=True)\n",
    "os.makedirs('D:/KP_Alexis_Doci/seg', exist_ok=True)\n",
    "os.makedirs('D:/KP_Alexis_Doci/lidar', exist_ok=True)\n",
    "os.makedirs('D:/KP_Alexis_Doci/depth', exist_ok=True)\n",
    "\n",
    "# window car view\n",
    "os.makedirs('D:/KP_Alexis_Doci/rgb_window', exist_ok=True)\n",
    "os.makedirs('D:/KP_Alexis_Doci/seg_window', exist_ok=True)\n",
    "os.makedirs('D:/KP_Alexis_Doci/lidar_window', exist_ok=True)\n",
    "os.makedirs('D:/KP_Alexis_Doci/depth_window', exist_ok=True)\n",
    "\n",
    "rgb_frame_counter = 1\n",
    "seg_frame_counter = 1\n",
    "depth_frame_counter = 1\n",
    "lidar_frame_counter = 1\n",
    "\n",
    "rgb_frame_counter_window = 1\n",
    "seg_frame_counter_window = 1\n",
    "depth_frame_counter_window = 1\n",
    "lidar_frame_counter_window = 1\n",
    "\n",
    "# === Bird Eye view callbacks ===\n",
    "def process_rgb(image):\n",
    "    global rgb_frame_counter\n",
    "    image.save_to_disk(f'D:/KP_Alexis_Doci/rgb/frame_{rgb_frame_counter:05d}.png')\n",
    "    rgb_frame_counter += 1\n",
    "\n",
    "def process_seg(image):\n",
    "    global seg_frame_counter\n",
    "    image.convert(carla.ColorConverter.CityScapesPalette)\n",
    "    image.save_to_disk(f'D:/KP_Alexis_Doci/seg/frame_{seg_frame_counter:05d}.png')\n",
    "    seg_frame_counter += 1\n",
    "\n",
    "def process_depth(image):\n",
    "    global depth_frame_counter\n",
    "    image.convert(carla.ColorConverter.LogarithmicDepth)\n",
    "    image.save_to_disk(f'D:/KP_Alexis_Doci/depth/frame_{depth_frame_counter:05d}.png')\n",
    "    depth_frame_counter += 1\n",
    "\n",
    "\n",
    "# === Window Car view callbacks ===\n",
    "def process_rgb_window(image):\n",
    "    global rgb_frame_counter_window\n",
    "    image.save_to_disk(f'D:/KP_Alexis_Doci/rgb_window/frame_{rgb_frame_counter_window:05d}.png')\n",
    "    rgb_frame_counter_window += 1\n",
    "\n",
    "def process_seg_window(image):\n",
    "    global seg_frame_counter_window\n",
    "    image.convert(carla.ColorConverter.CityScapesPalette)\n",
    "    image.save_to_disk(f'D:/KP_Alexis_Doci/seg_window/frame_{seg_frame_counter_window:05d}.png')\n",
    "    seg_frame_counter_window += 1\n",
    "\n",
    "def process_depth_window(image):\n",
    "    global depth_frame_counter_window\n",
    "    image.convert(carla.ColorConverter.LogarithmicDepth)\n",
    "    image.save_to_disk(f'D:/KP_Alexis_Doci/depth_window/frame_{depth_frame_counter_window:05d}.png')\n",
    "    depth_frame_counter_window += 1"
   ]
  },
  {
   "cell_type": "code",
   "execution_count": null,
   "id": "702edc50",
   "metadata": {},
   "outputs": [],
   "source": [
    "# pemrosesan khusus lidar\n",
    "import math\n",
    "import open3d as o3d\n",
    "from matplotlib import cm\n",
    "\n",
    "# ==== Color Map dan Fungsi Axis Open3D ====\n",
    "# Colormap untuk Lidar\n",
    "VIRIDIS = np.array(cm.get_cmap('plasma').colors)\n",
    "VID_RANGE = np.linspace(0.0, 1.0, VIRIDIS.shape[0])\n",
    "\n",
    "# Colormap untuk Radar\n",
    "COOL_RANGE = np.linspace(0.0, 1.0, VIRIDIS.shape[0])\n",
    "COOL = np.array(cm.get_cmap('winter')(COOL_RANGE))[:, :3]\n",
    "\n",
    "# Fungsi untuk menambahkan axis di Open3D\n",
    "def add_open3d_axis(vis):\n",
    "    axis = o3d.geometry.LineSet()\n",
    "    axis.points = o3d.utility.Vector3dVector(np.array([\n",
    "        [0, 0, 0], [1, 0, 0],\n",
    "        [0, 1, 0], [0, 0, 1]\n",
    "    ]))\n",
    "    axis.lines = o3d.utility.Vector2iVector([[0,1],[0,2],[0,3]])\n",
    "    axis.colors = o3d.utility.Vector3dVector([[1,0,0], [0,1,0], [0,0,1]])\n",
    "    vis.add_geometry(axis)\n",
    "\n",
    "# === Callback untuk Sensor ===\n",
    "# Lidar\n",
    "def lidar_callback(point_cloud, point_list):\n",
    "    data = np.copy(np.frombuffer(point_cloud.raw_data, dtype=np.float32)).reshape(-1, 4)\n",
    "    intensity = data[:, -1]\n",
    "    int_color = np.c_[\n",
    "        np.interp(intensity, VID_RANGE, VIRIDIS[:, 0]),\n",
    "        np.interp(intensity, VID_RANGE, VIRIDIS[:, 1]),\n",
    "        np.interp(intensity, VID_RANGE, VIRIDIS[:, 2])\n",
    "    ]\n",
    "    points = data[:, :-1]\n",
    "    points[:, :1] = -points[:, :1]  # flip x\n",
    "    point_list.points = o3d.utility.Vector3dVector(points)\n",
    "    point_list.colors = o3d.utility.Vector3dVector(int_color)\n",
    "\n",
    "# Radar\n",
    "def radar_callback(data, radar_list):\n",
    "    radar_data = np.zeros((len(data), 4))\n",
    "    for i, d in enumerate(data):\n",
    "        x = d.depth * math.cos(d.altitude) * math.cos(d.azimuth)\n",
    "        y = d.depth * math.cos(d.altitude) * math.sin(d.azimuth)\n",
    "        z = d.depth * math.sin(d.altitude)\n",
    "        radar_data[i, :] = [x, y, z, d.velocity]\n",
    "    intensity = np.abs(radar_data[:, -1])\n",
    "    int_color = np.c_[\n",
    "        np.interp(intensity, COOL_RANGE, COOL[:, 0]),\n",
    "        np.interp(intensity, COOL_RANGE, COOL[:, 1]),\n",
    "        np.interp(intensity, COOL_RANGE, COOL[:, 2])\n",
    "    ]\n",
    "    points = radar_data[:, :-1]\n",
    "    points[:, :1] = -points[:, :1]\n",
    "    radar_list.points = o3d.utility.Vector3dVector(points)\n",
    "    radar_list.colors = o3d.utility.Vector3dVector(int_color)\n",
    "\n",
    "# Kamera RGB\n",
    "def camera_callback(image, data_dict):\n",
    "    data_dict['image'] = np.reshape(\n",
    "        np.copy(image.raw_data), (image.height, image.width, 4))\n",
    "\n"
   ]
  },
  {
   "cell_type": "code",
   "execution_count": null,
   "id": "4d085e8b",
   "metadata": {},
   "outputs": [],
   "source": [
    "#send the car off on autopilot - this will leave the spectator\n",
    "vehicle.set_autopilot(True)"
   ]
  },
  {
   "cell_type": "code",
   "execution_count": null,
   "id": "a22e8793",
   "metadata": {},
   "outputs": [
    {
     "name": "stdout",
     "output_type": "stream",
     "text": [
      "Starting ticking loop. Press Interrupt (Ctrl+C) to stop.\n",
      "Ticking loop stopped by user.\n",
      "All sensors stopped.\n"
     ]
    }
   ],
   "source": [
    "# Prepare a CSV file for logging\n",
    "log_filename = f'car_location_log_{time.strftime(\"%Y%m%d-%H%M%S\")}.csv'\n",
    "log_file = open(log_filename, 'w', newline='')\n",
    "log_writer = csv.writer(log_file)\n",
    "log_writer.writerow(['frame', 'timestamp', 'x', 'y', 'z'])\n",
    "\n",
    "# --- Your sensor listeners are already set up correctly ---\n",
    "# bird eye view\n",
    "camera_rgb.listen(process_rgb)\n",
    "camera_seg.listen(process_seg)\n",
    "camera_depth.listen(process_depth)\n",
    "# camera_lidar.listen(process_lidar)\n",
    "\n",
    "# window car view\n",
    "camera_rgb_window.listen(process_rgb_window)\n",
    "camera_seg_window.listen(process_seg_window)\n",
    "camera_depth_window.listen(process_depth_window)\n",
    "# camera_lidar_window.listen(process_lidar_window)\n",
    "\n",
    "# --- This is the key part to integrate the logging logic ---\n",
    "def log_and_tick():\n",
    "    \"\"\"A single function to handle both ticking and logging.\"\"\"\n",
    "    \n",
    "    # Tick the world to get the latest state\n",
    "    world_snapshot = world.tick()\n",
    "\n",
    "    # Get the vehicle's transform from the snapshot for better synchronization\n",
    "    # and to ensure we get the data from the current frame.\n",
    "    vehicle_snapshot = world_snapshot.find(vehicle.id)\n",
    "    \n",
    "    # Check if the vehicle still exists\n",
    "    if vehicle_snapshot and vehicle.is_alive:\n",
    "        loc = vehicle_snapshot.get_transform().location\n",
    "        timestamp = world_snapshot.timestamp\n",
    "        \n",
    "        # Write the data to the CSV file\n",
    "        log_writer.writerow([\n",
    "            world_snapshot.frame,\n",
    "            timestamp.elapsed_seconds,\n",
    "            loc.x,\n",
    "            loc.y,\n",
    "            loc.z\n",
    "        ])\n",
    "\n",
    "        # Optional: Print to console for real-time feedback\n",
    "        # sys.stdout.write(f\"\\rFrame: {world_snapshot.frame:06d} | Time: {timestamp.elapsed_seconds:.2f}s | Location: (x={loc.x:.2f}, y={loc.y:.2f}, z={loc.z:.2f})\")\n",
    "        # sys.stdout.flush()\n",
    "\n",
    "    # Sleep to match the fixed delta seconds\n",
    "    time.sleep(0.05)\n",
    "\n",
    "\n",
    "print(\"Starting ticking loop. Press Interrupt (Ctrl+C) to stop.\")\n",
    "try:\n",
    "    while True:\n",
    "        log_and_tick()\n",
    "except KeyboardInterrupt:\n",
    "    print(\"Ticking loop stopped by user.\")\n",
    "finally:\n",
    "    # Stop all sensors and close the log file\n",
    "    camera_rgb.stop()\n",
    "    camera_seg.stop()\n",
    "    camera_depth.stop()\n",
    "    # camera_lidar.stop()\n",
    "    camera_rgb_window.stop()\n",
    "    camera_seg_window.stop()\n",
    "    camera_depth_window.stop()\n",
    "    # camera_lidar_window.stop()\n",
    "    \n",
    "    # Close the log file\n",
    "    log_file.close()\n",
    "\n",
    "    print(\"All sensors stopped and log file closed.\")"
   ]
  },
  {
   "cell_type": "code",
   "execution_count": null,
   "id": "2e152d8a",
   "metadata": {},
   "outputs": [],
   "source": []
  }
 ],
 "metadata": {
  "kernelspec": {
   "display_name": "Python 3 (ipykernel)",
   "language": "python",
   "name": "python3"
  },
  "language_info": {
   "codemirror_mode": {
    "name": "ipython",
    "version": 3
   },
   "file_extension": ".py",
   "mimetype": "text/x-python",
   "name": "python",
   "nbconvert_exporter": "python",
   "pygments_lexer": "ipython3",
   "version": "3.7.16"
  }
 },
 "nbformat": 4,
 "nbformat_minor": 5
}
